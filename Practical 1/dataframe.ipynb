{
 "cells": [
  {
   "cell_type": "code",
   "execution_count": 1,
   "metadata": {},
   "outputs": [],
   "source": [
    "import numpy as np\n",
    "import pandas as pd\n",
    "import matplotlib.pyplot as plt"
   ]
  },
  {
   "cell_type": "markdown",
   "metadata": {},
   "source": [
    "Creating SERIES"
   ]
  },
  {
   "cell_type": "code",
   "execution_count": 2,
   "metadata": {},
   "outputs": [
    {
     "name": "stdout",
     "output_type": "stream",
     "text": [
      "---------- S1 ----------\n",
      "0        1\n",
      "1     2.56\n",
      "2    Petra\n",
      "3      NaN\n",
      "4     True\n",
      "Name: c1, dtype: object\n"
     ]
    }
   ],
   "source": [
    "# ------------------------------------------------------------\n",
    "# Creating SERIES\n",
    "# ------------------------------------------------------------\n",
    "\n",
    "s1 = pd.Series([1, 2.56, \"Petra\", np.nan, True], name=\"c1\")\n",
    "\n",
    "s2 = pd.Series([1, 2.56, \"Petra\", np.nan, True],\n",
    "               index = [\"aa\", \"bb\", \"cc\", \"dd\", \"ee\"])\n",
    "\n",
    "s3 = pd.Series({\"day1\": 420, \"day2\": 380, \"day3\": 390})\n",
    "\n",
    "s4 = pd.Series({\"day1\": 420, \"day2\": 380, \"day3\": 390},\n",
    "               index = [\"day1\", \"day2\"])\n",
    "\n",
    "print('---------- S1 ----------')\n",
    "print(s1)"
   ]
  },
  {
   "cell_type": "code",
   "execution_count": 3,
   "metadata": {},
   "outputs": [
    {
     "name": "stdout",
     "output_type": "stream",
     "text": [
      "\n",
      "---------- S2 ----------\n",
      "aa        1\n",
      "bb     2.56\n",
      "cc    Petra\n",
      "dd      NaN\n",
      "ee     True\n",
      "dtype: object\n"
     ]
    }
   ],
   "source": [
    "print('\\n---------- S2 ----------')\n",
    "print(s2)\n"
   ]
  },
  {
   "cell_type": "code",
   "execution_count": 4,
   "metadata": {},
   "outputs": [
    {
     "name": "stdout",
     "output_type": "stream",
     "text": [
      "\n",
      "---------- S3 ----------\n",
      "day1    420\n",
      "day2    380\n",
      "day3    390\n",
      "dtype: int64\n"
     ]
    }
   ],
   "source": [
    "print('\\n---------- S3 ----------')\n",
    "print(s3)\n"
   ]
  },
  {
   "cell_type": "code",
   "execution_count": 5,
   "metadata": {},
   "outputs": [
    {
     "name": "stdout",
     "output_type": "stream",
     "text": [
      "\n",
      "---------- S4 ----------\n",
      "day1    420\n",
      "day2    380\n",
      "dtype: int64\n",
      "\n",
      "--------------------------\n"
     ]
    }
   ],
   "source": [
    "print('\\n---------- S4 ----------')\n",
    "print(s4)\n",
    "print('\\n--------------------------')"
   ]
  },
  {
   "cell_type": "code",
   "execution_count": 6,
   "metadata": {},
   "outputs": [
    {
     "name": "stdout",
     "output_type": "stream",
     "text": [
      "Count = 4\n",
      "NaN = 1\n"
     ]
    }
   ],
   "source": [
    "# ------------------------------------------------------------\n",
    "# SERIES Functions\n",
    "# ------------------------------------------------------------\n",
    "\n",
    "# Hitung jumlah dari non-NaN values\n",
    "print('Count =', s1.count())\n",
    "\n",
    "# Hitung jumlah dari NaN values\n",
    "print('NaN =', s1.isna().sum())"
   ]
  },
  {
   "cell_type": "code",
   "execution_count": 7,
   "metadata": {},
   "outputs": [
    {
     "name": "stdout",
     "output_type": "stream",
     "text": [
      "--------------------------\n",
      "c1\n",
      "1        2\n",
      "2.56     1\n",
      "Petra    1\n",
      "Name: count, dtype: int64\n"
     ]
    }
   ],
   "source": [
    "# Cetak frekuensi dari tiap non-NaN value\n",
    "print('--------------------------')\n",
    "print(s1.value_counts())\n",
    "\n"
   ]
  },
  {
   "cell_type": "code",
   "execution_count": 8,
   "metadata": {},
   "outputs": [
    {
     "name": "stdout",
     "output_type": "stream",
     "text": [
      "--------------------------\n",
      "[1, 2.56, 'Petra', nan, True]\n"
     ]
    }
   ],
   "source": [
    "# Konversi series ke list\n",
    "print('--------------------------')\n",
    "print(s1.values.tolist())"
   ]
  },
  {
   "cell_type": "code",
   "execution_count": 9,
   "metadata": {},
   "outputs": [
    {
     "name": "stdout",
     "output_type": "stream",
     "text": [
      "0       1\n",
      "1    2.56\n",
      "4    True\n",
      "Name: c1, dtype: object\n",
      "--------------------------\n"
     ]
    }
   ],
   "source": [
    "# Hapus baris dengen index tertentu\n",
    "s1_fix = s1.drop(index=[2,3])\n",
    "print(s1_fix)\n",
    "print('--------------------------')"
   ]
  },
  {
   "cell_type": "code",
   "execution_count": 10,
   "metadata": {},
   "outputs": [
    {
     "name": "stdout",
     "output_type": "stream",
     "text": [
      "1     2.56\n",
      "2    Petra\n",
      "3      NaN\n",
      "Name: c1, dtype: object\n",
      "--------------------------\n"
     ]
    }
   ],
   "source": [
    "s1_fix = s1.truncate(before=1, after=3)\n",
    "print(s1_fix)\n",
    "print('--------------------------')"
   ]
  },
  {
   "cell_type": "markdown",
   "metadata": {},
   "source": [
    "DATAFRAME"
   ]
  },
  {
   "cell_type": "code",
   "execution_count": 22,
   "metadata": {},
   "outputs": [
    {
     "name": "stdout",
     "output_type": "stream",
     "text": [
      "    c1   c2     c3   c4\n",
      "a  qwe  123  False  4.0\n",
      "b  asd  456   True  NaN\n",
      "c  zxc  789   True  6.0\n"
     ]
    }
   ],
   "source": [
    "# ------------------------------------------------------------\n",
    "# Creating a DATAFRAME\n",
    "# ------------------------------------------------------------\n",
    "\n",
    "data = {\n",
    "    'c1' : [\"qwe\",\"asd\",\"zxc\"],\n",
    "    'c2' : [123,456,789],\n",
    "    'c3' : [False, True,True],\n",
    "    'c4' : [4,np.nan,6],\n",
    "}\n",
    "df_data = pd.DataFrame(data, index=['a','b','c'])\n",
    "print(df_data)"
   ]
  },
  {
   "cell_type": "code",
   "execution_count": 12,
   "metadata": {},
   "outputs": [
    {
     "name": "stdout",
     "output_type": "stream",
     "text": [
      "--------------------------\n",
      "a    123\n",
      "b    456\n",
      "c    789\n",
      "Name: c2, dtype: int64\n",
      "--------------------------\n"
     ]
    }
   ],
   "source": [
    "print('--------------------------')\n",
    "print(df_data[\"c2\"])\n",
    "print('--------------------------')"
   ]
  },
  {
   "cell_type": "code",
   "execution_count": 13,
   "metadata": {},
   "outputs": [
    {
     "name": "stdout",
     "output_type": "stream",
     "text": [
      "--------------------------\n",
      "c1      qwe\n",
      "c2      123\n",
      "c3    False\n",
      "c4      4.0\n",
      "Name: a, dtype: object\n",
      "--------------------------\n"
     ]
    }
   ],
   "source": [
    "print('--------------------------')\n",
    "print(df_data.iloc[0])\n",
    "print('--------------------------')"
   ]
  },
  {
   "cell_type": "code",
   "execution_count": 14,
   "metadata": {},
   "outputs": [
    {
     "name": "stdout",
     "output_type": "stream",
     "text": [
      "    c1   c2     c3   c4\n",
      "a  qwe  123  False  4.0\n",
      "c  zxc  789   True  6.0\n"
     ]
    }
   ],
   "source": [
    "df_data.dropna(inplace=True)\n",
    "# Keep The Original Data --> place the dataframe into new dataframe\n",
    "# other_df = df_data.dropna(inplace=False)\n",
    "print(df_data)"
   ]
  },
  {
   "cell_type": "code",
   "execution_count": 23,
   "metadata": {},
   "outputs": [
    {
     "name": "stdout",
     "output_type": "stream",
     "text": [
      "--------------------------\n",
      "a    False\n",
      "b     True\n",
      "c     True\n",
      "Name: c2, dtype: bool\n",
      "--------------------------\n"
     ]
    }
   ],
   "source": [
    "# Mengecek apakah tiap baris memenuhi kondisi ttt.\n",
    "print('--------------------------')\n",
    "print(df_data['c2'] > 200)\n",
    "print('--------------------------')"
   ]
  },
  {
   "cell_type": "code",
   "execution_count": 24,
   "metadata": {},
   "outputs": [
    {
     "name": "stdout",
     "output_type": "stream",
     "text": [
      "--------------------------\n",
      "    c1   c2    c3   c4\n",
      "b  asd  456  True  NaN\n",
      "c  zxc  789  True  6.0\n"
     ]
    }
   ],
   "source": [
    "# Simpan baris-baris di atas ke dataframe baru\n",
    "print('--------------------------')\n",
    "df_data2 = df_data[ df_data['c2'] > 200]\n",
    "print(df_data2)"
   ]
  },
  {
   "cell_type": "code",
   "execution_count": 17,
   "metadata": {},
   "outputs": [
    {
     "name": "stdout",
     "output_type": "stream",
     "text": [
      "--------------------------\n",
      "        abc  def\n",
      "a       BMW    3\n",
      "200   Volvo    7\n",
      "4.56   Ford    2\n"
     ]
    }
   ],
   "source": [
    "print('--------------------------')\n",
    "cars = [[\"BMW\", 3],[\"Volvo\", 7],[\"Ford\", 2]]\n",
    "df_cars = pd.DataFrame(cars,\n",
    "                 index=[\"a\",200,4.56],\n",
    "                 columns=[\"abc\",\"def\"])\n",
    "print(df_cars)"
   ]
  }
 ],
 "metadata": {
  "kernelspec": {
   "display_name": "Dsci",
   "language": "python",
   "name": "kuliah"
  },
  "language_info": {
   "codemirror_mode": {
    "name": "ipython",
    "version": 3
   },
   "file_extension": ".py",
   "mimetype": "text/x-python",
   "name": "python",
   "nbconvert_exporter": "python",
   "pygments_lexer": "ipython3",
   "version": "3.11.8"
  }
 },
 "nbformat": 4,
 "nbformat_minor": 2
}
